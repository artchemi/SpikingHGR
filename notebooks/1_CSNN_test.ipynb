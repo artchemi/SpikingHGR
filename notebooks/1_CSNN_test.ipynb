{
 "cells": [
  {
   "cell_type": "code",
   "execution_count": 27,
   "id": "2ce2d0fd",
   "metadata": {},
   "outputs": [],
   "source": [
    "import os, sys\n",
    "import snntorch as snn \n",
    "import torch\n",
    "from torch import nn\n",
    "\n",
    "sys.path.insert(0, os.path.abspath(os.path.join(os.getcwd(), '..')))\n",
    "from config import *\n",
    "from src.dataset import *"
   ]
  },
  {
   "cell_type": "markdown",
   "id": "71e83cfe",
   "metadata": {},
   "source": [
    "# Convolutional SNN\n",
    "\n",
    "Краткий туториал по устройству свертки в импульснах нейронных сетях."
   ]
  },
  {
   "cell_type": "markdown",
   "id": "637eafe7",
   "metadata": {},
   "source": [
    "## Импорт датасета"
   ]
  },
  {
   "cell_type": "code",
   "execution_count": 28,
   "id": "bc1e6b60",
   "metadata": {},
   "outputs": [],
   "source": [
    "emg, label = folder_extract('../'+FOLDER_PATH, exercises=EXERCISES, myo_pref=MYO_PREF)\n",
    "all_g = gestures(emg, label, targets=GESTURE_INDEXES_MAIN)\n",
    "\n",
    "train_g, test_g = train_test_split(all_g, split_size=0.2, rand_seed=GLOBAL_SEED)\n",
    "\n",
    "X_train_raw, y_train = apply_window(train_g, window=WINDOW_SIZE, step=STEP_SIZE)\n",
    "X_test_raw,  y_test  = apply_window(test_g,  window=WINDOW_SIZE, step=STEP_SIZE)"
   ]
  },
  {
   "cell_type": "markdown",
   "id": "66a334a3",
   "metadata": {},
   "source": [
    "## Стандартизация и подготовка к размерности модели"
   ]
  },
  {
   "cell_type": "code",
   "execution_count": 29,
   "id": "39f955c3",
   "metadata": {},
   "outputs": [],
   "source": [
    "means = X_train_raw.mean(axis=(0, 2))       # (channels,)\n",
    "stds  = X_train_raw.std(axis=(0, 2)) + 1e-8\n",
    "\n",
    "def standardize(X):\n",
    "    return (X - means[None,:,None]) / stds[None,:,None]\n",
    "\n",
    "Xs_train = standardize(X_train_raw)\n",
    "Xs_test = standardize(X_test_raw)"
   ]
  },
  {
   "cell_type": "code",
   "execution_count": 30,
   "id": "c35600c3",
   "metadata": {},
   "outputs": [],
   "source": [
    "def prepare(X):\n",
    "    Xt = np.transpose(X, (0, 2, 1))   # [N, window, channels]\n",
    "    sel = Xt[..., CHANNELS]           # отбор каналов\n",
    "    return sel[..., np.newaxis].astype(np.float32)\n",
    "\n",
    "X_train = prepare(Xs_train)  # Готовые данные\n",
    "X_test = prepare(Xs_test)"
   ]
  },
  {
   "cell_type": "code",
   "execution_count": 31,
   "id": "39ba23a4",
   "metadata": {},
   "outputs": [],
   "source": [
    "X_train = torch.tensor(X_train, dtype=torch.float32).permute(0, 3, 1, 2)"
   ]
  },
  {
   "cell_type": "code",
   "execution_count": 32,
   "id": "7a4669bc",
   "metadata": {},
   "outputs": [
    {
     "data": {
      "text/plain": [
       "torch.Size([32941, 1, 52, 8])"
      ]
     },
     "execution_count": 32,
     "metadata": {},
     "output_type": "execute_result"
    }
   ],
   "source": [
    "X_train.shape    # (кол-во окон, 1, размерность окна, количество каналов)"
   ]
  },
  {
   "cell_type": "markdown",
   "id": "c2f43d80",
   "metadata": {},
   "source": [
    "## Определение модели"
   ]
  },
  {
   "cell_type": "code",
   "execution_count": 33,
   "id": "3426bb79",
   "metadata": {},
   "outputs": [],
   "source": [
    "spike_grad = snn.surrogate.fast_sigmoid(slope=25)\n",
    "beta = 0.5\n",
    "num_steps = 50"
   ]
  },
  {
   "cell_type": "code",
   "execution_count": 34,
   "id": "efa885f3",
   "metadata": {},
   "outputs": [],
   "source": [
    "model = nn.Sequential(nn.Conv2d(in_channels=1, out_channels=1, kernel_size=3),\n",
    "                      nn.MaxPool2d(kernel_size=2),\n",
    "                      snn.Leaky(beta=0.95, spike_grad=spike_grad, init_hidden=True)\n",
    "                      )"
   ]
  },
  {
   "cell_type": "code",
   "execution_count": 35,
   "id": "21048ac1",
   "metadata": {},
   "outputs": [
    {
     "data": {
      "text/plain": [
       "tensor([[[0., 0., 0.],\n",
       "         [0., 0., 0.],\n",
       "         [0., 0., 0.],\n",
       "         [0., 0., 0.],\n",
       "         [0., 0., 0.],\n",
       "         [0., 0., 0.],\n",
       "         [0., 0., 0.],\n",
       "         [0., 0., 0.],\n",
       "         [0., 0., 0.],\n",
       "         [0., 0., 0.],\n",
       "         [0., 0., 0.],\n",
       "         [0., 0., 0.],\n",
       "         [0., 0., 0.],\n",
       "         [0., 0., 0.],\n",
       "         [1., 0., 0.],\n",
       "         [0., 1., 0.],\n",
       "         [0., 0., 0.],\n",
       "         [0., 0., 0.],\n",
       "         [0., 0., 0.],\n",
       "         [0., 0., 0.],\n",
       "         [0., 0., 0.],\n",
       "         [0., 0., 0.],\n",
       "         [0., 0., 0.],\n",
       "         [0., 0., 0.],\n",
       "         [0., 0., 0.]]], grad_fn=<MulBackward0>)"
      ]
     },
     "execution_count": 35,
     "metadata": {},
     "output_type": "execute_result"
    }
   ],
   "source": [
    "model(X_train[0])"
   ]
  },
  {
   "cell_type": "code",
   "execution_count": null,
   "id": "86f37f9c",
   "metadata": {},
   "outputs": [],
   "source": []
  }
 ],
 "metadata": {
  "kernelspec": {
   "display_name": ".venv",
   "language": "python",
   "name": "python3"
  },
  "language_info": {
   "codemirror_mode": {
    "name": "ipython",
    "version": 3
   },
   "file_extension": ".py",
   "mimetype": "text/x-python",
   "name": "python",
   "nbconvert_exporter": "python",
   "pygments_lexer": "ipython3",
   "version": "3.10.12"
  }
 },
 "nbformat": 4,
 "nbformat_minor": 5
}
